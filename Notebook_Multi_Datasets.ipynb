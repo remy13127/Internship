{
 "cells": [
  {
   "cell_type": "code",
   "execution_count": null,
   "metadata": {},
   "outputs": [],
   "source": [
    "import pandas as pd\n",
    "import numpy as np\n",
    "from matplotlib.ticker import MultipleLocator\n",
    "from lmfit import Model,Parameter,Parameters\n",
    "import matplotlib.pyplot as plt\n",
    "from matplotlib.gridspec import GridSpec\n",
    "from scipy.stats import norm\n",
    "import os\n",
    "from functions import plot_preprocessed_dist,plot_track_characteristics,mmsd_plot,cutoff_function,msd,data_pool,two_distributions_plot,partition,ecdf,kolmogorov_smirnov,compute_mean_intensity_map,KS_MAP,KS_MAP_2SAMP\n",
    "from celluloid import Camera\n",
    "%matplotlib inline\n",
    "%reload_ext autoreload"
   ]
  },
  {
   "cell_type": "markdown",
   "metadata": {},
   "source": [
    "# Multi experiment comparisons\n",
    "\n",
    "We want to be able to compare distributions of the diffusion coefficient in different experiments. The `data_pool` function generates a matrix containing $\\alpha$, $D$, $c$, $N$, the track ID, $x$ and $y$ arrays, and the cell activity $I$ (if images are provided) for a track that survives the `minframe`, `maxframe` and `rsquared_threshold` filters in all the files combined. "
   ]
  },
  {
   "cell_type": "code",
   "execution_count": 2,
   "metadata": {},
   "outputs": [
    {
     "name": "stderr",
     "output_type": "stream",
     "text": [
      "/home/remy13127/Documents/Internship/functions.py:731: RuntimeWarning: divide by zero encountered in double_scalars\n",
      "  rsquare = 1 - result.residual.var() / np.var(rhon[n0:nbrpts])\n"
     ]
    }
   ],
   "source": [
    "dt = 0.05\n",
    "minframe=8\n",
    "maxframe=500\n",
    "rsquared_threshold=0.9\n",
    "\n",
    "files1 = [\"Data/SM1/sm1_ld400.csv\",\"Data/SM2/sm2_ld400.csv\",\"Data/SM3/sm3_ld400.csv\",\"Data/SM4/sm4_ld400.csv\",\"Data/SM5/sm5_ld400.csv\",\"Data/SM6/sm6_ld400.csv\",\"Data/SM7/sm7_ld400.csv\",\"Data/SM8/sm8_ld400.csv\",\"Data/SM9/sm9_ld400.csv\",\"Data/SM10/sm10_ld400.csv\"]\n",
    "images1 = [\"Data/SM1/sm1_stack.tif\",\"Data/SM2/sm2_stack.tif\",\"Data/SM3/sm3_stack.tif\",\"Data/SM4/sm4_stack.tif\",\"Data/SM5/sm5_stack.tif\",\"Data/SM6/sm6_stack.tif\",\"Data/SM7/sm7_stack.tif\",\"Data/SM8/sm8_stack.tif\",\"Data/SM9/sm9_stack.tif\",\"Data/SM10/sm10_stack.tif\"]\n",
    "\n",
    "files2 = [\"Data/SM1_WNT/sm1_wnt_ld400.csv\",\"Data/SM2_WNT/sm2_wnt_ld400.csv\",\"Data/SM3_WNT/sm3_wnt_ld400.csv\",\"Data/SM4_WNT/sm4_wnt_ld400.csv\",\"Data/SM5_WNT/sm5_wnt_ld400.csv\",\"Data/SM6_WNT/sm6_wnt_ld400.csv\",\"Data/SM7_WNT/sm7_wnt_ld400.csv\",\"Data/SM8_WNT/sm8_wnt_ld400.csv\",\"Data/SM10_WNT/sm10_wnt_ld400.csv\"]\n",
    "images2 = [\"Data/SM1_WNT/sm1_wnt_stack.tif\",\"Data/SM2_WNT/sm2_wnt_stack.tif\",\"Data/SM3_WNT/sm3_wnt_stack.tif\",\"Data/SM4_WNT/sm4_wnt_stack.tif\",\"Data/SM5_WNT/sm5_wnt_stack.tif\",\"Data/SM6_WNT/sm6_wnt_stack.tif\",\"Data/SM7_WNT/sm7_wnt_stack.tif\",\"Data/SM8_WNT/sm8_wnt_stack.tif\",\"Data/SM10_WNT/sm10_wnt_stack.tif\"]\n",
    "\n",
    "#files = [\"Data/SM1/sm1_ld400.csv\",\"Data/SM2/sm2_ld400.csv\"]\n",
    "DATA1 = data_pool(files1,dt,minframe,maxframe,rsquared_threshold,images=images1,fit_option=\"thirty_percent\")\n",
    "DATA2 = data_pool(files2,dt,minframe,maxframe,rsquared_threshold,images=images2,fit_option=\"thirty_percent\")"
   ]
  },
  {
   "cell_type": "code",
   "execution_count": null,
   "metadata": {
    "scrolled": true
   },
   "outputs": [],
   "source": [
    "two_distributions_plot(DATA1,DATA2,\"LP184\",'LP184 VBS199 SUP',ksloop=3000,title=r'Distributions from experiment LP184 for different MSD fit options with MinFrame = '+str(minframe)+' and $R^2 >$'+str(rsquared_threshold))"
   ]
  },
  {
   "cell_type": "markdown",
   "metadata": {},
   "source": [
    "### Kolmogorov - Smirnov test\n",
    "\n",
    "We can compare the two distirbutions by performing a Kolmogorov-Smirnov test. This test looks for the maximum distance between the two cumulative distribution functions of these distributions. It returns a statistic number $D$ and evaluates a p-value. \n",
    "\n",
    "For some reason, in automatic mode `ks_2samp` does not evaluate properly the p-value. I assume that the `scipy` function performs a continuous fit of the statistical distribution of the $D$ statistic. Indeed, the pvalue can be evaluated experimentally by:\n",
    "* concatenating the two distributions and shuffling the resulting large distribution\n",
    "* splitting this large distribution into two partition respecting the size of the original distributions\n",
    "* performing a two sample K-S test and obtaining $D^*$\n",
    "* doing the previous steps $N$ times and counting how many times $D^* > D$, i.e. a measure of how much the directly computed $D$ is inside the statistical distribution of $D^*$. \n",
    "\n",
    "This probability of $D^* > D$ is the p-value. If it is 0 then all $D^*$ values are below $D$, there is no overlap, the distributions are in all likelihood different. If it is larger than 0.05 then there is at least a 5% chance that the original distributions are identical."
   ]
  },
  {
   "cell_type": "code",
   "execution_count": null,
   "metadata": {},
   "outputs": [],
   "source": [
    "dist1 = D_WNT\n",
    "dist2 = D_LP184\n",
    "\n",
    "stat,pvalue = kolmogorov_smirnov(dist1,dist2,1000,plot=True)"
   ]
  },
  {
   "cell_type": "markdown",
   "metadata": {},
   "source": [
    "# Phase portraits with filter\n",
    "\n",
    "We now use one feature from each dataset ($\\alpha$, $c$, the cell activity) to filter out another feature, namely $D$. Once we have several filtered $D$-distribution, we can apply KS tests to compare their shapes. "
   ]
  },
  {
   "cell_type": "code",
   "execution_count": 5,
   "metadata": {
    "scrolled": true
   },
   "outputs": [
    {
     "data": {
      "image/png": "[encoded data removed]",
      "text/plain": [
       "<Figure size 432x288 with 2 Axes>"
      ]
     },
     "metadata": {
      "needs_background": "light"
     },
     "output_type": "display_data"
    },
    {
     "name": "stdout",
     "output_type": "stream",
     "text": [
      "KS statistic =  0.0\n",
      "bootstrap p-value =  1.0\n",
      "KS statistic =  0.1065928270042194\n",
      "bootstrap p-value =  0.0003333333333333333\n",
      "KS statistic =  0.17589599385941607\n",
      "bootstrap p-value =  0.0\n",
      "KS statistic =  0.1470747389865037\n",
      "bootstrap p-value =  0.0\n",
      "KS statistic =  0.2018743667679838\n",
      "bootstrap p-value =  0.0\n",
      "KS statistic =  0.3039377289377289\n",
      "bootstrap p-value =  0.0\n",
      "KS statistic =  0.0\n",
      "bootstrap p-value =  1.0\n",
      "KS statistic =  0.09317177678200067\n",
      "bootstrap p-value =  0.0003333333333333333\n",
      "KS statistic =  0.08175274712877095\n",
      "bootstrap p-value =  0.004333333333333333\n",
      "KS statistic =  0.13743218806509946\n",
      "bootstrap p-value =  0.0\n",
      "KS statistic =  0.21700746510873092\n",
      "bootstrap p-value =  0.0\n",
      "KS statistic =  0.0\n",
      "bootstrap p-value =  1.0\n",
      "KS statistic =  0.06251678375233315\n",
      "bootstrap p-value =  0.012333333333333333\n",
      "KS statistic =  0.06617019392210327\n",
      "bootstrap p-value =  0.071\n",
      "KS statistic =  0.13540623460028295\n",
      "bootstrap p-value =  0.001\n",
      "KS statistic =  0.0\n",
      "bootstrap p-value =  1.0\n",
      "KS statistic =  0.10995345913994224\n",
      "bootstrap p-value =  0.0\n",
      "KS statistic =  0.1609214315096668\n",
      "bootstrap p-value =  0.0\n",
      "KS statistic =  0.0\n",
      "bootstrap p-value =  1.0\n",
      "KS statistic =  0.1265684669939989\n",
      "bootstrap p-value =  0.0\n",
      "KS statistic =  0.0\n",
      "bootstrap p-value =  1.0\n"
     ]
    }
   ],
   "source": [
    "phase_portrait,windows = KS_MAP(DATA2,6,filter_dist='I',dist_for_ks='D',ksloops=3000)\n",
    "#phase_portrait,windows = KS_MAP_2SAMP(DATA1,DATA2,10,filter_dist='C',dist_for_ks='D',ksloops=1000)"
   ]
  },
  {
   "cell_type": "code",
   "execution_count": 1,
   "metadata": {},
   "outputs": [
    {
     "ename": "NameError",
     "evalue": "name 'phase_portrait' is not defined",
     "output_type": "error",
     "traceback": [
      "\u001b[0;31m---------------------------------------------------------------------------\u001b[0m",
      "\u001b[0;31mNameError\u001b[0m                                 Traceback (most recent call last)",
      "\u001b[0;32m<ipython-input-1-6e59e8c2b115>\u001b[0m in \u001b[0;36m<module>\u001b[0;34m\u001b[0m\n\u001b[1;32m      1\u001b[0m \u001b[0;32mimport\u001b[0m \u001b[0mseaborn\u001b[0m \u001b[0;32mas\u001b[0m \u001b[0msns\u001b[0m\u001b[0;34m\u001b[0m\u001b[0;34m\u001b[0m\u001b[0m\n\u001b[1;32m      2\u001b[0m \u001b[0;34m\u001b[0m\u001b[0m\n\u001b[0;32m----> 3\u001b[0;31m \u001b[0mheat_map\u001b[0m \u001b[0;34m=\u001b[0m \u001b[0msns\u001b[0m\u001b[0;34m.\u001b[0m\u001b[0mheatmap\u001b[0m\u001b[0;34m(\u001b[0m\u001b[0mphase_portrait\u001b[0m\u001b[0;34m.\u001b[0m\u001b[0mround\u001b[0m\u001b[0;34m(\u001b[0m\u001b[0mdecimals\u001b[0m\u001b[0;34m=\u001b[0m\u001b[0;36m2\u001b[0m\u001b[0;34m)\u001b[0m\u001b[0;34m,\u001b[0m \u001b[0mlinewidths\u001b[0m\u001b[0;34m=\u001b[0m\u001b[0;36m.1\u001b[0m\u001b[0;34m,\u001b[0m \u001b[0mannot\u001b[0m\u001b[0;34m=\u001b[0m\u001b[0;32mTrue\u001b[0m\u001b[0;34m,\u001b[0m \u001b[0mxticklabels\u001b[0m\u001b[0;34m=\u001b[0m\u001b[0;34m[\u001b[0m\u001b[0mround\u001b[0m\u001b[0;34m(\u001b[0m\u001b[0ma\u001b[0m\u001b[0;34m,\u001b[0m\u001b[0;36m2\u001b[0m\u001b[0;34m)\u001b[0m \u001b[0;32mfor\u001b[0m \u001b[0ma\u001b[0m \u001b[0;32min\u001b[0m \u001b[0mwindows\u001b[0m\u001b[0;34m]\u001b[0m\u001b[0;34m,\u001b[0m \u001b[0myticklabels\u001b[0m\u001b[0;34m=\u001b[0m\u001b[0;34m[\u001b[0m\u001b[0mround\u001b[0m\u001b[0;34m(\u001b[0m\u001b[0ma\u001b[0m\u001b[0;34m,\u001b[0m\u001b[0;36m2\u001b[0m\u001b[0;34m)\u001b[0m \u001b[0;32mfor\u001b[0m \u001b[0ma\u001b[0m \u001b[0;32min\u001b[0m \u001b[0mwindows\u001b[0m\u001b[0;34m]\u001b[0m\u001b[0;34m)\u001b[0m\u001b[0;34m\u001b[0m\u001b[0;34m\u001b[0m\u001b[0m\n\u001b[0m\u001b[1;32m      4\u001b[0m \u001b[0;31m# fix for mpl bug that cuts off top/bottom of seaborn viz\u001b[0m\u001b[0;34m\u001b[0m\u001b[0;34m\u001b[0m\u001b[0;34m\u001b[0m\u001b[0m\n\u001b[1;32m      5\u001b[0m \u001b[0mb\u001b[0m\u001b[0;34m,\u001b[0m \u001b[0mt\u001b[0m \u001b[0;34m=\u001b[0m \u001b[0mplt\u001b[0m\u001b[0;34m.\u001b[0m\u001b[0mylim\u001b[0m\u001b[0;34m(\u001b[0m\u001b[0;34m)\u001b[0m \u001b[0;31m# discover the values for bottom and top\u001b[0m\u001b[0;34m\u001b[0m\u001b[0;34m\u001b[0m\u001b[0m\n",
      "\u001b[0;31mNameError\u001b[0m: name 'phase_portrait' is not defined"
     ]
    }
   ],
   "source": [
    "import seaborn as sns\n",
    "\n",
    "heat_map = sns.heatmap(phase_portrait.round(decimals=2), linewidths=.1, annot=True, xticklabels=[round(a,2) for a in windows], yticklabels=[round(a,2) for a in windows])\n",
    "# fix for mpl bug that cuts off top/bottom of seaborn viz\n",
    "b, t = plt.ylim() # discover the values for bottom and top\n",
    "b += 0.5 # Add 0.5 to the bottom\n",
    "t -= 0.5 # Subtract 0.5 from the top\n",
    "plt.ylim(b, t) # update the ylim(bottom, top) values\n",
    "\n",
    "plt.xlabel(r'cell activity window')\n",
    "plt.ylabel(r'cell activity window')\n",
    "plt.show() # ta-da!"
   ]
  },
  {
   "cell_type": "code",
   "execution_count": null,
   "metadata": {},
   "outputs": [],
   "source": [
    "%matplotlib notebook\n",
    "\n",
    "data_pool\n",
    "D1 = []\n",
    "for k in range(np.shape(DATA1)[0]):\n",
    "    D1.append(np.log10(DATA1[k][1]))\n",
    "    \n",
    "A1 = []\n",
    "for k in range(np.shape(DATA1)[0]):\n",
    "    A1.append(DATA1[k][0])\n",
    "    \n",
    "C1 = []\n",
    "for k in range(np.shape(DATA1)[0]):\n",
    "    C1.append(DATA1[k][2])\n",
    "\n",
    "from mpl_toolkits.mplot3d import Axes3D  \n",
    "\n",
    "fig = plt.figure()\n",
    "ax = fig.add_subplot(111, projection='3d')\n",
    "ax.scatter(D1, A1, C1,alpha=0.01)\n",
    "ax.set_xlabel('D')\n",
    "ax.set_ylabel(r'$\\alpha$')\n",
    "ax.set_zlabel('c')\n",
    "plt.show()"
   ]
  }
 ],
 "metadata": {
  "kernelspec": {
   "display_name": "Python 3",
   "language": "python",
   "name": "python3"
  },
  "language_info": {
   "codemirror_mode": {
    "name": "ipython",
    "version": 3
   },
   "file_extension": ".py",
   "mimetype": "text/x-python",
   "name": "python",
   "nbconvert_exporter": "python",
   "pygments_lexer": "ipython3",
   "version": "3.6.9"
  }
 },
 "nbformat": 4,
 "nbformat_minor": 2
}
